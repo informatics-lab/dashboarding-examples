{
 "cells": [
  {
   "cell_type": "markdown",
   "id": "2bf31ea9-2817-49dd-9eca-536b01d244dc",
   "metadata": {},
   "source": [
    "# Spirograph Patterns\n",
    "\n",
    "Make a spirograph with some clever trig!"
   ]
  },
  {
   "cell_type": "markdown",
   "id": "10383b6c-ec8d-421d-95b8-4ab3f2b5d937",
   "metadata": {},
   "source": [
    "## Matplotlib"
   ]
  },
  {
   "cell_type": "code",
   "execution_count": null,
   "id": "747500e8-ef13-42bf-b2c9-e8a1a0ca7794",
   "metadata": {
    "tags": []
   },
   "outputs": [],
   "source": [
    "import numpy as np\n",
    "import matplotlib.pyplot as plt\n",
    "\n",
    "from generators import spirograph"
   ]
  },
  {
   "cell_type": "markdown",
   "id": "f94a4d18-1637-4acd-a077-a2285859b36c",
   "metadata": {},
   "source": [
    "### First Go"
   ]
  },
  {
   "cell_type": "code",
   "execution_count": null,
   "id": "4190583a-b24c-430a-a472-69643a48047d",
   "metadata": {},
   "outputs": [],
   "source": [
    "t0 = np.linspace(0, 2*np.pi, 50)\n",
    "ti = np.linspace(0, 2*np.pi, 100)\n",
    "r0 = 3\n",
    "ri = 2"
   ]
  },
  {
   "cell_type": "code",
   "execution_count": null,
   "id": "6acbd259-ccf7-4332-b7d7-378fab174ee9",
   "metadata": {},
   "outputs": [],
   "source": [
    "x0 = r0 * np.sin(t0)\n",
    "y0 = 2 * r0 * np.cos(t0)"
   ]
  },
  {
   "cell_type": "code",
   "execution_count": null,
   "id": "4a7b52dd-e6d4-4c3b-af2f-c516565fb32d",
   "metadata": {},
   "outputs": [],
   "source": [
    "fig = plt.figure(figsize=(15, 10))\n",
    "\n",
    "ax = plt.axes()\n",
    "ax.set_aspect('equal')\n",
    "\n",
    "# plt.plot(x0, y0, c='b')\n",
    "\n",
    "for xi, yi in zip(x0, y0):\n",
    "    xc = ri * np.sin(ti) + xi\n",
    "    yc = ri * np.cos(ti) + yi\n",
    "    plt.plot(xc, yc, c='b')"
   ]
  },
  {
   "cell_type": "markdown",
   "id": "bda852ee-79b6-478b-a22d-e74beadf573a",
   "metadata": {},
   "source": [
    "### Second Go"
   ]
  },
  {
   "cell_type": "code",
   "execution_count": null,
   "id": "3bdb0e6e-f154-4915-b33a-527830c034a2",
   "metadata": {},
   "outputs": [],
   "source": [
    "r_ring = 5\n",
    "r_circle = 2\n",
    "n_ring = 100\n",
    "n_circle = 50\n",
    "t_ring = np.linspace(0, 2*np.pi, n_ring*n_circle)\n",
    "t_circle = np.linspace(0, 2*np.pi, n_circle)"
   ]
  },
  {
   "cell_type": "code",
   "execution_count": null,
   "id": "06964aa6-a74b-41f6-a7dc-641dd8fe0a96",
   "metadata": {},
   "outputs": [],
   "source": [
    "x_ring = r_ring * np.sin(t_ring).reshape(n_ring, n_circle)\n",
    "y_ring = r_ring * np.cos(t_ring).reshape(n_ring, n_circle)\n",
    "x_circle = r_circle * np.sin(t_circle)\n",
    "y_circle = r_circle * np.cos(t_circle)\n",
    "\n",
    "xp = x_ring + x_circle\n",
    "yp = y_ring + y_circle"
   ]
  },
  {
   "cell_type": "code",
   "execution_count": null,
   "id": "561b9d7b-d924-4526-add6-39f16d28c741",
   "metadata": {},
   "outputs": [],
   "source": [
    "fig = plt.figure(figsize=(15, 10))\n",
    "\n",
    "ax = plt.axes()\n",
    "ax.set_aspect('equal')\n",
    "\n",
    "plt.plot(xp.reshape(-1), yp.reshape(-1))"
   ]
  },
  {
   "cell_type": "markdown",
   "id": "fa384311-44ff-422b-bafb-45eddd372e62",
   "metadata": {},
   "source": [
    "## HoloViz"
   ]
  },
  {
   "cell_type": "code",
   "execution_count": null,
   "id": "b3ef997e-c226-47d8-a845-e05df9e762df",
   "metadata": {},
   "outputs": [],
   "source": [
    "import holoviews as hv\n",
    "import panel as pn\n",
    "\n",
    "hv.extension('bokeh')"
   ]
  },
  {
   "cell_type": "code",
   "execution_count": null,
   "id": "f03ddaff-de43-43d7-954c-1a8347649e2e",
   "metadata": {},
   "outputs": [],
   "source": [
    "n = pn.widgets.IntSlider(name='n', start=10, end=100, step=1, value=16)\n",
    "m = pn.widgets.IntSlider(name='m', start=5, end=100, step=1, value=50)\n",
    "r0x = pn.widgets.FloatSlider(name='r0x', start=0.1, end=5.0, step=0.1, value=1.0)\n",
    "r0y = pn.widgets.FloatSlider(name='r0y', start=0.5, end=3.0, step=0.1, value=1.0)\n",
    "rix = pn.widgets.FloatSlider(name='rix', start=1.0, end=2.5, step=0.1, value=1.0)\n",
    "riy = pn.widgets.FloatSlider(name='riy', start=1.0, end=3.0, step=0.1, value=1.0)\n",
    "\n",
    "def make_points(n, m, r0x, r0y, rix, riy):\n",
    "    t0 = np.linspace(0, 2*np.pi, n)\n",
    "    ti = np.linspace(0, 2*np.pi, m)\n",
    "    x0 = r0x * np.sin(t0)\n",
    "    y0 = r0y * np.cos(t0)\n",
    "    \n",
    "    xout = []\n",
    "    yout = []\n",
    "    for xi, yi in zip(x0, y0):\n",
    "        xc = rix * np.sin(ti) + xi\n",
    "        xout.append(xc)\n",
    "        yc = riy * np.cos(ti) + yi\n",
    "        yout.append(yc)\n",
    "        \n",
    "    xres = np.concatenate(xout)\n",
    "    yres = np.concatenate(yout)\n",
    "    return xres, yres\n",
    "\n",
    "@pn.depends(\n",
    "    n.param.value, m.param.value,\n",
    "    r0x.param.value, r0y.param.value,\n",
    "    rix.param.value, riy.param.value,\n",
    ")\n",
    "def make_plot(n, m, r0x, r0y, rix, riy):\n",
    "    x, y = make_points(n, m, r0x, r0y, rix, riy)\n",
    "    return hv.Curve(zip(x, y)).opts(width=500, height=500)\n",
    "\n",
    "pn.Row(pn.Column(n, m, r0x, r0y, rix, riy), make_plot)"
   ]
  },
  {
   "cell_type": "code",
   "execution_count": null,
   "id": "e57cb073-04ab-4f59-913b-3f1351961fb9",
   "metadata": {},
   "outputs": [],
   "source": [
    "n = pn.widgets.IntSlider(name='n', start=5, end=100, step=1, value=75)\n",
    "m = pn.widgets.IntSlider(name='m', start=5, end=100, step=1, value=50)\n",
    "rnx = pn.widgets.FloatSlider(name='rnx', start=0.1, end=5.0, step=0.1, value=4.0)\n",
    "rny = pn.widgets.FloatSlider(name='rny', start=0.1, end=6.0, step=0.1, value=4.0)\n",
    "rmx = pn.widgets.FloatSlider(name='rmx', start=0.5, end=3.0, step=0.1, value=2.0)\n",
    "rmy = pn.widgets.FloatSlider(name='rmy', start=0.5, end=4.0, step=0.1, value=2.0)\n",
    "kn = pn.widgets.FloatSlider(name='kn', start=0.1, end=5.0, step=0.1, value=1.0)\n",
    "km = pn.widgets.FloatSlider(name='km', start=0.1, end=5.0, step=0.1, value=1.0)\n",
    "\n",
    "@pn.depends(\n",
    "    n.param.value, m.param.value,\n",
    "    rnx.param.value, rny.param.value,\n",
    "    rmx.param.value, rmy.param.value,\n",
    "    kn.param.value, km.param.value\n",
    ")\n",
    "def make_plot(n, m, rnx, rny, rmx, rmy, kn, km):\n",
    "    x, y = spirograph(n, m, rnx, rny, rmx, rmy, kn, km)\n",
    "    return hv.Curve(zip(x, y)).opts(width=750, height=750)\n",
    "\n",
    "pn.Row(pn.Column(n, m, rnx, rny, rmx, rmy, kn, km), make_plot)"
   ]
  }
 ],
 "metadata": {
  "kernelspec": {
   "display_name": "Python 3",
   "language": "python",
   "name": "python3"
  },
  "language_info": {
   "codemirror_mode": {
    "name": "ipython",
    "version": 3
   },
   "file_extension": ".py",
   "mimetype": "text/x-python",
   "name": "python",
   "nbconvert_exporter": "python",
   "pygments_lexer": "ipython3",
   "version": "3.9.2"
  }
 },
 "nbformat": 4,
 "nbformat_minor": 5
}
