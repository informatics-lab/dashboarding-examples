{
 "cells": [
  {
   "cell_type": "markdown",
   "id": "0a816136-53b7-4d3c-adfd-ff5f810cf166",
   "metadata": {},
   "source": [
    "# Geometric Patterns and Holoviz\n",
    "\n",
    "Make an interactive geometric pattern using holoviz."
   ]
  },
  {
   "cell_type": "code",
   "execution_count": null,
   "id": "cf5e8dd4-2bf5-40e5-a5cb-198a5d362ace",
   "metadata": {},
   "outputs": [],
   "source": [
    "import holoviews as hv\n",
    "import panel as pn\n",
    "import numpy as np\n",
    "\n",
    "hv.extension('bokeh')"
   ]
  },
  {
   "cell_type": "code",
   "execution_count": null,
   "id": "3f286940-e55e-476b-ab0c-61bc73a3e013",
   "metadata": {},
   "outputs": [],
   "source": [
    "n = pn.widgets.IntSlider(name='n', start=10, end=1000, step=5, value=100)\n",
    "m = pn.widgets.IntSlider(name='m', start=1, end=20, step=1, value=2)\n",
    "\n",
    "@pn.depends(n.param.value, m.param.value)\n",
    "def make_plot(n, m):\n",
    "    t = np.linspace(-m*np.pi, m*np.pi, n)\n",
    "    r = t % n\n",
    "    x = r * np.sin(t)\n",
    "    y = r * np.cos(t)\n",
    "    return hv.Curve(zip(x, y)).opts(width=500, height=500)\n",
    "\n",
    "pn.Row(pn.Column(n, m), make_plot).servable()"
   ]
  },
  {
   "cell_type": "code",
   "execution_count": null,
   "id": "5f9f2246-9135-4ae7-b664-e2d0ce062d2d",
   "metadata": {},
   "outputs": [],
   "source": []
  }
 ],
 "metadata": {
  "kernelspec": {
   "display_name": "Python 3",
   "language": "python",
   "name": "python3"
  },
  "language_info": {
   "codemirror_mode": {
    "name": "ipython",
    "version": 3
   },
   "file_extension": ".py",
   "mimetype": "text/x-python",
   "name": "python",
   "nbconvert_exporter": "python",
   "pygments_lexer": "ipython3",
   "version": "3.9.2"
  }
 },
 "nbformat": 4,
 "nbformat_minor": 5
}
