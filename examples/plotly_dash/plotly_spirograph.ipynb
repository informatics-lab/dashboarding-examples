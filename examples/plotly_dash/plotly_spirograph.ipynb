{
 "cells": [
  {
   "cell_type": "markdown",
   "id": "0a816136-53b7-4d3c-adfd-ff5f810cf166",
   "metadata": {},
   "source": [
    "# Geometric Patterns and Plotly\n",
    "\n",
    "Make an interactive geometric pattern using plotly / dash."
   ]
  },
  {
   "cell_type": "code",
   "execution_count": 1,
   "id": "cf5e8dd4-2bf5-40e5-a5cb-198a5d362ace",
   "metadata": {},
   "outputs": [],
   "source": [
    "import numpy as np\n",
    "\n",
    "import dash\n",
    "import dash_core_components as dcc\n",
    "import dash_html_components as html\n",
    "\n",
    "import plotly.express as px\n",
    "import plotly.graph_objects as go"
   ]
  },
  {
   "cell_type": "code",
   "execution_count": 2,
   "id": "496a98f0-2e95-4085-8f91-e47218206c3b",
   "metadata": {},
   "outputs": [],
   "source": [
    "def make_plot(n, m):\n",
    "    t = np.linspace(-m*np.pi, m*np.pi, n)\n",
    "    r = t // m\n",
    "#     r = np.cos(t)\n",
    "    x = r * np.sin(t)\n",
    "    y = r * np.cos(t)\n",
    "    return x, y"
   ]
  },
  {
   "cell_type": "code",
   "execution_count": 3,
   "id": "7c2fe6af-9c56-4955-be17-29da15b1ce72",
   "metadata": {},
   "outputs": [],
   "source": [
    "n = 1000\n",
    "m = 3\n",
    "x, y = make_plot(n, m)"
   ]
  },
  {
   "cell_type": "code",
   "execution_count": 4,
   "id": "3f286940-e55e-476b-ab0c-61bc73a3e013",
   "metadata": {
    "tags": []
   },
   "outputs": [],
   "source": [
    "plot = go.Scatter(x=x, y=y)\n",
    "fig = go.Figure(data=plot)\n",
    "# fig.show(renderer='notebook')"
   ]
  },
  {
   "cell_type": "code",
   "execution_count": null,
   "id": "3a52a20a-a963-47be-a6b0-8da3a1134392",
   "metadata": {
    "tags": []
   },
   "outputs": [],
   "source": [
    "go.Figure(go.Scatter(x=x, y=y))"
   ]
  },
  {
   "cell_type": "code",
   "execution_count": null,
   "id": "5f9f2246-9135-4ae7-b664-e2d0ce062d2d",
   "metadata": {
    "tags": []
   },
   "outputs": [],
   "source": [
    "px.line(x=x, y=y)"
   ]
  },
  {
   "cell_type": "code",
   "execution_count": 6,
   "id": "5e7ab703-433d-46c3-ba97-2fe52c86e1c3",
   "metadata": {},
   "outputs": [
    {
     "name": "stdout",
     "output_type": "stream",
     "text": [
      "Dash is running on http://127.0.0.1:8050/\n",
      "\n",
      " * Serving Flask app '__main__' (lazy loading)\n",
      " * Environment: production\n",
      "\u001b[31m   WARNING: This is a development server. Do not use it in a production deployment.\u001b[0m\n",
      "\u001b[2m   Use a production WSGI server instead.\u001b[0m\n",
      " * Debug mode: off\n"
     ]
    },
    {
     "name": "stderr",
     "output_type": "stream",
     "text": [
      " * Running on http://127.0.0.1:8050/ (Press CTRL+C to quit)\n",
      "127.0.0.1 - - [08/Jul/2021 16:18:06] \"GET / HTTP/1.1\" 200 -\n",
      "127.0.0.1 - - [08/Jul/2021 16:18:06] \"GET /_dash-component-suites/dash_renderer/prop-types@15.v1_9_1m1625754145.7.2.min.js HTTP/1.1\" 200 -\n",
      "127.0.0.1 - - [08/Jul/2021 16:18:06] \"GET /_dash-component-suites/dash_renderer/react@16.v1_9_1m1625754145.14.0.min.js HTTP/1.1\" 200 -\n",
      "127.0.0.1 - - [08/Jul/2021 16:18:06] \"GET /_dash-component-suites/dash_core_components/dash_core_components-shared.v1_16_0m1625754146.js HTTP/1.1\" 200 -\n",
      "127.0.0.1 - - [08/Jul/2021 16:18:06] \"GET /_dash-component-suites/dash_renderer/react-dom@16.v1_9_1m1625754145.14.0.min.js HTTP/1.1\" 200 -\n",
      "127.0.0.1 - - [08/Jul/2021 16:18:06] \"GET /_dash-component-suites/dash_renderer/polyfill@7.v1_9_1m1625754145.8.7.min.js HTTP/1.1\" 200 -\n",
      "127.0.0.1 - - [08/Jul/2021 16:18:06] \"GET /_dash-component-suites/dash_html_components/dash_html_components.v1_1_3m1625754146.min.js HTTP/1.1\" 200 -\n",
      "127.0.0.1 - - [08/Jul/2021 16:18:06] \"GET /_dash-component-suites/dash_core_components/dash_core_components.v1_16_0m1625754146.min.js HTTP/1.1\" 200 -\n",
      "127.0.0.1 - - [08/Jul/2021 16:18:06] \"GET /_dash-component-suites/dash_renderer/dash_renderer.v1_9_1m1625754145.min.js HTTP/1.1\" 200 -\n",
      "127.0.0.1 - - [08/Jul/2021 16:18:06] \"GET /_dash-dependencies HTTP/1.1\" 200 -\n",
      "127.0.0.1 - - [08/Jul/2021 16:18:06] \"GET /_dash-layout HTTP/1.1\" 200 -\n",
      "127.0.0.1 - - [08/Jul/2021 16:18:06] \"GET /_favicon.ico?v=1.20.0 HTTP/1.1\" 200 -\n",
      "127.0.0.1 - - [08/Jul/2021 16:18:06] \"GET /_dash-component-suites/dash_core_components/async-graph.v1_16_0m1617903285.js HTTP/1.1\" 200 -\n",
      "127.0.0.1 - - [08/Jul/2021 16:18:06] \"GET /_dash-component-suites/dash_core_components/async-plotlyjs.v1_16_0m1617903285.js HTTP/1.1\" 200 -\n"
     ]
    }
   ],
   "source": [
    "app = dash.Dash()\n",
    "app.layout = html.Div([\n",
    "    dcc.Graph(figure=fig)\n",
    "])\n",
    "\n",
    "app.run_server()"
   ]
  },
  {
   "cell_type": "code",
   "execution_count": null,
   "id": "60876579-c534-41b5-8bb7-60f84aaf6f27",
   "metadata": {},
   "outputs": [],
   "source": []
  }
 ],
 "metadata": {
  "kernelspec": {
   "display_name": "Python 3",
   "language": "python",
   "name": "python3"
  },
  "language_info": {
   "codemirror_mode": {
    "name": "ipython",
    "version": 3
   },
   "file_extension": ".py",
   "mimetype": "text/x-python",
   "name": "python",
   "nbconvert_exporter": "python",
   "pygments_lexer": "ipython3",
   "version": "3.9.2"
  }
 },
 "nbformat": 4,
 "nbformat_minor": 5
}
