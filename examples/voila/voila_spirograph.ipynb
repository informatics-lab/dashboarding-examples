{
 "cells": [
  {
   "cell_type": "markdown",
   "id": "6f8c478c-db84-4b22-9742-a0807f956726",
   "metadata": {},
   "source": [
    "# Spirograph Plot"
   ]
  },
  {
   "cell_type": "code",
   "execution_count": null,
   "id": "0bbbc127-a39d-49e9-ac3a-1a630be287f0",
   "metadata": {},
   "outputs": [],
   "source": [
    "%matplotlib widget\n",
    "\n",
    "import ipywidgets as widgets\n",
    "import matplotlib.pyplot as plt\n",
    "import numpy as np"
   ]
  },
  {
   "cell_type": "code",
   "execution_count": null,
   "id": "1cd606d3-7956-40af-b503-e6102a54290f",
   "metadata": {},
   "outputs": [],
   "source": [
    "def spirograph(n, m,\n",
    "               rnx=1, rny=1,\n",
    "               rmx=1, rmy=1,\n",
    "               kn=1, km=1,\n",
    "               wn=0, wm=0):\n",
    "    \"\"\"\n",
    "    Generate a spirograph pattern by extruding circles around a central ring.\n",
    "\n",
    "    Args:\n",
    "      * n: number of points to generate the central ring with\n",
    "      * m: number of points to generate each circle with\n",
    "\n",
    "    Kwargs:\n",
    "      * rnx: amplitude of central ring x-component\n",
    "      * rny: amplitude of central ring y-component\n",
    "      * rmx: amplitude of circles' x-component\n",
    "      * rmy: amplitude of circles' y-component\n",
    "      * kn: frequency adjustment of central ring (x and y)\n",
    "      * km: frequency adjustment of circles (x and y)\n",
    "      * wn: phase adjustment of central ring (x and y)\n",
    "      * wm: phase adjustment of circles (x and y)\n",
    "\n",
    "    Args must be supplied as a single integer value. Kwargs can be supplied either\n",
    "    as a single numeric value or an array that can be broadcast to the shape (n, m).\n",
    "\n",
    "    \"\"\"\n",
    "    t_ring = np.linspace(0, 2*np.pi, n*m)\n",
    "    t_circle = np.linspace(0, 2*np.pi, m)\n",
    "    \n",
    "    x_ring = rnx * np.sin(t_ring*kn).reshape(n, m)\n",
    "    y_ring = rny * np.cos(t_ring*kn).reshape(n, m)\n",
    "    xp = rmx * np.sin(t_circle*km) + x_ring\n",
    "    yp = rmy * np.cos(t_circle*km) + y_ring\n",
    "\n",
    "    return xp.reshape(-1), yp.reshape(-1)"
   ]
  },
  {
   "cell_type": "code",
   "execution_count": null,
   "id": "4fbcb0a5-1d5f-47a5-9a6e-6ea47183092d",
   "metadata": {},
   "outputs": [],
   "source": [
    "def update_plot(n, m, rn, rm):\n",
    "    xp, yp = spirograph(n, m, rnx=rn, rny=rn, rmx=rm, rmy=rm)\n",
    "    spiro.set_data(xp, yp)\n",
    "\n",
    "def on_value_change(change):\n",
    "    update_plot(set_n.value, set_m.value, set_rn.value, set_rm.value)"
   ]
  },
  {
   "cell_type": "code",
   "execution_count": null,
   "id": "f1440605-385e-4c22-a20b-a07454572d39",
   "metadata": {},
   "outputs": [],
   "source": [
    "n = 50\n",
    "m = 25\n",
    "rn = 4.0\n",
    "rm = 2.0\n",
    "\n",
    "x, y = spirograph(n, m, rnx=rn, rny=rn, rmx=rm, rmy=rm)"
   ]
  },
  {
   "cell_type": "markdown",
   "id": "f99d9398-4460-45ae-95f7-1a71e1a6517c",
   "metadata": {},
   "source": [
    "## Sliders\n",
    "\n",
    "Use these sliders to control the plot drawn below."
   ]
  },
  {
   "cell_type": "code",
   "execution_count": null,
   "id": "9cce460a-7293-4a6a-b3f7-fca4158cb471",
   "metadata": {},
   "outputs": [],
   "source": [
    "set_n = widgets.IntSlider(value=n, min=10, max=100, step=5,\n",
    "                          description='n:', continuous_update=False)\n",
    "set_n.observe(on_value_change, names='value')\n",
    "\n",
    "set_m = widgets.IntSlider(value=m, min=5, max=50, step=1,\n",
    "                          description='m:', continuous_update=False)\n",
    "set_m.observe(on_value_change, names='value')\n",
    "\n",
    "set_rn = widgets.FloatSlider(value=rn, min=0.1, max=6.0, step=0.1,\n",
    "                             description='rn:', continuous_update=False)\n",
    "set_rn.observe(on_value_change, names='value')\n",
    "\n",
    "set_rm = widgets.FloatSlider(value=rm, min=0.1, max=5.0, step=0.1,\n",
    "                             description='rm:', continuous_update=False)\n",
    "set_rm.observe(on_value_change, names='value')\n",
    "\n",
    "sbox = widgets.VBox([set_n, set_m, set_rn, set_rm])\n",
    "sbox"
   ]
  },
  {
   "cell_type": "markdown",
   "id": "f4ea4c0d-c21e-4cd8-b019-e9886af7a8f3",
   "metadata": {},
   "source": [
    "## Plot"
   ]
  },
  {
   "cell_type": "code",
   "execution_count": null,
   "id": "8d7a163c-04d2-411c-a685-0a68e47ca4a2",
   "metadata": {},
   "outputs": [],
   "source": [
    "fig = plt.figure(figsize=(8, 8))\n",
    "fig.canvas.header_visible = False\n",
    "fig.canvas.footer_visible = False\n",
    "\n",
    "ax = plt.axes(aspect='equal')\n",
    "ax.set_xlim(-10, 10)\n",
    "ax.set_ylim(-10, 10)\n",
    "\n",
    "spiro, = ax.plot(x, y)"
   ]
  },
  {
   "cell_type": "code",
   "execution_count": null,
   "id": "d3ceb740-4a7e-439a-823e-b197ce63b584",
   "metadata": {},
   "outputs": [],
   "source": [
    "rmp = 3\n",
    "update_plot(n, m, rn, rmp)"
   ]
  },
  {
   "cell_type": "code",
   "execution_count": null,
   "id": "22cec8a4-3696-4d1b-8efe-8ae14b4d2982",
   "metadata": {},
   "outputs": [],
   "source": []
  }
 ],
 "metadata": {
  "kernelspec": {
   "display_name": "Python 3",
   "language": "python",
   "name": "python3"
  },
  "language_info": {
   "codemirror_mode": {
    "name": "ipython",
    "version": 3
   },
   "file_extension": ".py",
   "mimetype": "text/x-python",
   "name": "python",
   "nbconvert_exporter": "python",
   "pygments_lexer": "ipython3",
   "version": "3.9.2"
  }
 },
 "nbformat": 4,
 "nbformat_minor": 5
}
