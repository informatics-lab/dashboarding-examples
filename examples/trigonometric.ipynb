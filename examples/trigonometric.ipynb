{
 "cells": [
  {
   "cell_type": "markdown",
   "id": "2bf31ea9-2817-49dd-9eca-536b01d244dc",
   "metadata": {},
   "source": [
    "# Trigonometric Patterns\n",
    "\n",
    "Like a spirograph!\n",
    "\n",
    "## Trigonometric identity function\n",
    "\n",
    "`y = a * sin(k*x + w) + b`\n",
    "\n",
    "where:\n",
    "* `a`: amplitude\n",
    "* `k`: frequency\n",
    "* `w`: phase\n",
    "* `b`: offset"
   ]
  },
  {
   "cell_type": "markdown",
   "id": "10383b6c-ec8d-421d-95b8-4ab3f2b5d937",
   "metadata": {},
   "source": [
    "## Matplotlib"
   ]
  },
  {
   "cell_type": "code",
   "execution_count": null,
   "id": "747500e8-ef13-42bf-b2c9-e8a1a0ca7794",
   "metadata": {},
   "outputs": [],
   "source": [
    "import numpy as np\n",
    "import matplotlib.pyplot as plt\n",
    "\n",
    "from generators import trigonometric"
   ]
  },
  {
   "cell_type": "code",
   "execution_count": null,
   "id": "8c0bd634-1e80-4d43-928a-2d30c5e47745",
   "metadata": {},
   "outputs": [],
   "source": [
    "n = 1000\n",
    "m = 10\n",
    "t = np.linspace(-n*m*np.pi, n*m*np.pi, n)\n",
    "r = (t % n)"
   ]
  },
  {
   "cell_type": "code",
   "execution_count": null,
   "id": "42860c85-99ae-4411-90c8-53496cad0345",
   "metadata": {},
   "outputs": [],
   "source": [
    "a = t // 10\n",
    "b = 0\n",
    "k = 1\n",
    "w = 0"
   ]
  },
  {
   "cell_type": "code",
   "execution_count": null,
   "id": "871866a8-0b52-46ab-aad9-94bd9ad646c5",
   "metadata": {},
   "outputs": [],
   "source": [
    "x = a * np.sin(k*t + w) + b\n",
    "y = a * np.cos(k*t + w) + b"
   ]
  },
  {
   "cell_type": "code",
   "execution_count": null,
   "id": "b7363499-a3f5-46a2-96ca-4489ba1d719a",
   "metadata": {},
   "outputs": [],
   "source": [
    "fig = plt.figure(figsize=(15, 10))\n",
    "\n",
    "ax = plt.axes()\n",
    "ax.set_aspect('equal')\n",
    "\n",
    "plt.plot(x, y)"
   ]
  },
  {
   "cell_type": "code",
   "execution_count": null,
   "id": "175ff64c-85ed-4919-a0a7-db966ed6bfc7",
   "metadata": {},
   "outputs": [],
   "source": [
    "t = np.linspace(-2*np.pi, 2*np.pi, 100)\n",
    "r = 2\n",
    "m = 1\n",
    "\n",
    "x1 = r * np.sin(t)\n",
    "y1 = np.cos(t+m)\n",
    "\n",
    "x2 = np.sin(t+m)\n",
    "y2 = r * np.cos(t)\n",
    "\n",
    "x3 = r * np.sin(t)\n",
    "y3 = np.cos(t-m)\n",
    "\n",
    "x4 = np.sin(t-m)\n",
    "y4 = r * np.cos(t)"
   ]
  },
  {
   "cell_type": "code",
   "execution_count": null,
   "id": "7cad562f-0bd9-4bcf-8076-3591120f6f2c",
   "metadata": {},
   "outputs": [],
   "source": [
    "fig = plt.figure(figsize=(15, 10))\n",
    "\n",
    "ax = plt.axes()\n",
    "ax.set_xlim([-5, 5])\n",
    "ax.set_ylim([-5, 5])\n",
    "ax.set_aspect('equal')\n",
    "\n",
    "plt.plot(x1, y1, 'g',\n",
    "         x2, y2, 'r',\n",
    "         x3, y3, 'k',\n",
    "         x4, y4, 'y')"
   ]
  },
  {
   "cell_type": "code",
   "execution_count": null,
   "id": "1705b0dd-5399-468e-95ae-cf1645ee0ebb",
   "metadata": {},
   "outputs": [],
   "source": [
    "n = 1\n",
    "t = np.linspace(-n*np.pi, n*np.pi, 100)\n",
    "m = np.cos(t)\n",
    "r = np.sin(t)\n",
    "\n",
    "x1 = np.sin(t+m)\n",
    "y1 = r * np.cos(t)\n",
    "\n",
    "x2 = np.sin(t-m)\n",
    "y2 = r * np.cos(t)"
   ]
  },
  {
   "cell_type": "code",
   "execution_count": null,
   "id": "3dc3277d-a36a-475a-87a1-dced64c28e70",
   "metadata": {},
   "outputs": [],
   "source": [
    "fig = plt.figure(figsize=(15, 10))\n",
    "\n",
    "ax = plt.axes()\n",
    "ax.set_xlim([-5, 5])\n",
    "ax.set_ylim([-5, 5])\n",
    "ax.set_aspect('equal')\n",
    "\n",
    "plt.plot(x1, y1, 'g',\n",
    "         x2, y2, 'r')"
   ]
  },
  {
   "cell_type": "markdown",
   "id": "fa384311-44ff-422b-bafb-45eddd372e62",
   "metadata": {},
   "source": [
    "## HoloViz"
   ]
  },
  {
   "cell_type": "code",
   "execution_count": null,
   "id": "b3ef997e-c226-47d8-a845-e05df9e762df",
   "metadata": {},
   "outputs": [],
   "source": [
    "import holoviews as hv\n",
    "import panel as pn\n",
    "\n",
    "hv.extension('bokeh')"
   ]
  },
  {
   "cell_type": "code",
   "execution_count": null,
   "id": "c0560e2d-35c0-467f-bb48-0b085e7bfb25",
   "metadata": {},
   "outputs": [],
   "source": [
    "n = pn.widgets.IntSlider(name='n', start=10, end=1000, step=1, value=100)\n",
    "m = pn.widgets.IntSlider(name='m', start=2, end=100, step=1, value=20)\n",
    "\n",
    "@pn.depends(n.param.value, m.param.value)\n",
    "def make_plot(n, m):\n",
    "    x, y = trigonometric(n, m)\n",
    "    return hv.Curve(zip(x, y)).opts(width=500, height=500)\n",
    "\n",
    "pn.Row(pn.Column(n, m), make_plot)"
   ]
  }
 ],
 "metadata": {
  "kernelspec": {
   "display_name": "Python 3",
   "language": "python",
   "name": "python3"
  },
  "language_info": {
   "codemirror_mode": {
    "name": "ipython",
    "version": 3
   },
   "file_extension": ".py",
   "mimetype": "text/x-python",
   "name": "python",
   "nbconvert_exporter": "python",
   "pygments_lexer": "ipython3",
   "version": "3.9.2"
  }
 },
 "nbformat": 4,
 "nbformat_minor": 5
}
